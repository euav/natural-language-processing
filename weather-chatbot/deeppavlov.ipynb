{
  "nbformat": 4,
  "nbformat_minor": 0,
  "metadata": {
    "colab": {
      "name": "DeepPavlov Chatbot",
      "version": "0.3.2",
      "provenance": [],
      "collapsed_sections": [],
      "toc_visible": true
    },
    "kernelspec": {
      "name": "python3",
      "display_name": "Python 3"
    }
  },
  "cells": [
    {
      "cell_type": "markdown",
      "metadata": {
        "id": "wI43zPF7R_2x",
        "colab_type": "text"
      },
      "source": [
        "# Dependenies\n",
        "Let's download and import all the needed libraries.\n",
        "- **PyOWM** is needed to retrieve the weather forecast,\n",
        "- **DateTime** is needed to make arithmetics on dates,\n",
        "- **Pandas** is needed to store training data in CSV format,\n",
        "- **DeepPavlov** is choosed as a framework for this task."
      ]
    },
    {
      "cell_type": "code",
      "metadata": {
        "id": "fHT5SIEv7vfQ",
        "colab_type": "code",
        "colab": {}
      },
      "source": [
        "%%capture\n",
        "!pip install pyowm\n",
        "!pip install deeppavlov"
      ],
      "execution_count": 0,
      "outputs": []
    },
    {
      "cell_type": "code",
      "metadata": {
        "id": "V33kVAsBhVom",
        "colab_type": "code",
        "colab": {}
      },
      "source": [
        "import pyowm\n",
        "import datetime\n",
        "import pandas as pd\n",
        "\n",
        "from deeppavlov.skills.pattern_matching_skill import PatternMatchingSkill\n",
        "from deeppavlov.contrib.skills.similarity_matching_skill import SimilarityMatchingSkill\n",
        "from deeppavlov.agents.default_agent.default_agent import DefaultAgent\n",
        "from deeppavlov.agents.processors.highest_confidence_selector import HighestConfidenceSelector"
      ],
      "execution_count": 0,
      "outputs": []
    },
    {
      "cell_type": "markdown",
      "metadata": {
        "id": "qNRgk8Xh_x2i",
        "colab_type": "text"
      },
      "source": [
        "# Creation of intention dataset\n",
        "\n",
        "For Russian language."
      ]
    },
    {
      "cell_type": "code",
      "metadata": {
        "id": "n3defUpb_1i1",
        "colab_type": "code",
        "colab": {}
      },
      "source": [
        "temp_intent_templates = [\n",
        "    'какая погода {}',\n",
        "    'какая температура {}',\n",
        "    'какая будет температура {}',\n",
        "    'сколько градусов {}',\n",
        "    'сколько будет градусов {}',\n",
        "    'тепло ли на улице {}',\n",
        "    'холодно ли на улице {}',\n",
        "    'тепло ли будет на улице {}',\n",
        "    'холодно ли будет на улице {}',\n",
        "]\n",
        "\n",
        "wind_intent_templates = [\n",
        "    'насколько ветрено {}',\n",
        "    'насколько будет ветрено {}',\n",
        "    'какой ветер {}',\n",
        "    'сильно будет дуть {}',\n",
        "]\n",
        "\n",
        "rain_intent_templates = [\n",
        "    'будет ли дождь {}',\n",
        "    'какие осадки {}',\n",
        "    'ждать ли ливень {}'\n",
        "]\n",
        "\n",
        "day_phrases = {\n",
        "    '': 0,\n",
        "    'сегодня': 0,\n",
        "    'сейчас': 0,\n",
        "    'завтра': 1,\n",
        "    'через день': 1,\n",
        "    'через один день': 1,\n",
        "    'послезавтра': 2,\n",
        "    'через два дня': 2,\n",
        "    'через три дня': 3,\n",
        "    'через 1 день': 1,\n",
        "    'через 2 дня': 2,\n",
        "    'через 3 дня': 3,\n",
        "}\n",
        "\n",
        "questions = []\n",
        "intents = []\n",
        "\n",
        "for template in temp_intent_templates:\n",
        "    for phrase in day_phrases:\n",
        "        questions.append(template.format(phrase))\n",
        "        intents.append('temp-' + str(day_phrases[phrase]))\n",
        "        \n",
        "for template in wind_intent_templates:\n",
        "    for phrase in day_phrases:\n",
        "        questions.append(template.format(phrase))\n",
        "        intents.append('wind-' + str(day_phrases[phrase]))\n",
        "\n",
        "for template in rain_intent_templates:\n",
        "    for phrase in day_phrases:\n",
        "        questions.append(template.format(phrase))\n",
        "        intents.append('rain-' + str(day_phrases[phrase]))\n",
        "\n",
        "qa_dataset_ru = pd.DataFrame({'question': questions ,'intent': intents})\n",
        "qa_dataset_ru.to_csv('qa_dataset_ru.csv', index=False, line_terminator='\\n')"
      ],
      "execution_count": 0,
      "outputs": []
    },
    {
      "cell_type": "markdown",
      "metadata": {
        "id": "yu00pnmkHd93",
        "colab_type": "text"
      },
      "source": [
        "For English language."
      ]
    },
    {
      "cell_type": "code",
      "metadata": {
        "id": "l94o6vNmHeJj",
        "colab_type": "code",
        "colab": {}
      },
      "source": [
        "temp_intent_templates = [\n",
        "    'what is the weather like {}',\n",
        "    'what is the temperature {}',\n",
        "    'how may degrees {}',\n",
        "    'is it cold {}',\n",
        "    'is it cold outside {}',\n",
        "    'is it warm {}',\n",
        "    'is it warm outside {}',\n",
        "]\n",
        "\n",
        "wind_intent_templates = [\n",
        "    'how windy {}',\n",
        "    'what is the wind {}',\n",
        "    'will it blow {}',\n",
        "]\n",
        "\n",
        "rain_intent_templates = [\n",
        "    'is it going to rain {}',\n",
        "    'will it rain {}',\n",
        "    'what is the precipitation {}',\n",
        "    'should i expect rain {}'\n",
        "]\n",
        "\n",
        "day_phrases = {\n",
        "    '': 0,\n",
        "    'today': 0,\n",
        "    'now': 0,\n",
        "    'tomorrow': 1,\n",
        "    'in day': 1,\n",
        "    'in one day': 1,\n",
        "    'in two days': 2,\n",
        "    'in three days': 3,\n",
        "    'in 1 day': 1,\n",
        "    'in 2 days': 2,\n",
        "    'in 3 days': 3,\n",
        "}\n",
        "\n",
        "questions = []\n",
        "intents = []\n",
        "\n",
        "for template in temp_intent_templates:\n",
        "    for phrase in day_phrases:\n",
        "        questions.append(template.format(phrase))\n",
        "        intents.append('temp-' + str(day_phrases[phrase]))\n",
        "        \n",
        "for template in wind_intent_templates:\n",
        "    for phrase in day_phrases:\n",
        "        questions.append(template.format(phrase))\n",
        "        intents.append('wind-' + str(day_phrases[phrase]))\n",
        "\n",
        "for template in rain_intent_templates:\n",
        "    for phrase in day_phrases:\n",
        "        questions.append(template.format(phrase))\n",
        "        intents.append('rain-' + str(day_phrases[phrase]))\n",
        "\n",
        "qa_dataset_en = pd.DataFrame({'question': questions ,'intent': intents})\n",
        "qa_dataset_en.to_csv('qa_dataset_en.csv', index=False, line_terminator='\\n')"
      ],
      "execution_count": 0,
      "outputs": []
    },
    {
      "cell_type": "markdown",
      "metadata": {
        "id": "JFC7u_s5RhT8",
        "colab_type": "text"
      },
      "source": [
        "# Chatbot"
      ]
    },
    {
      "cell_type": "code",
      "metadata": {
        "id": "5DJzcUiBWaRX",
        "colab_type": "code",
        "colab": {}
      },
      "source": [
        "MY_LOCATION = 'Novosibirsk, RU'\n",
        "OWM_API_KEY = 'b2a209b25b7a0486ee4c845b7e20d397'\n",
        "\n",
        "DATAPATH = {\n",
        "    'ru': 'qa_dataset_ru.csv',\n",
        "    'en': 'qa_dataset_en.csv'\n",
        "}\n",
        "\n",
        "LOCALIZATION = {\n",
        "    'ru': {\n",
        "        'temp': 'Ожидается {0}°C при колебаниях между {1}°C и {2}°C.',\n",
        "        'wind': 'Ожтдается ветер со скоростью {} м/с.',\n",
        "        'rain': 'Будет {}.',\n",
        "        'reject': 'Извиняюсь, но я не понял ваш вопрос.'\n",
        "    },\n",
        "    'en': {\n",
        "        'temp': 'The temperature will be {0} °C flactuating between {1} °C and {2} °C.',\n",
        "        'wind': 'The wind will be {} m/s.',\n",
        "        'rain': 'It will be {} outside.',\n",
        "        'reject': 'Sorry, I do not understand your question.'\n",
        "    }\n",
        "}\n",
        "\n",
        "def create_intent_classifier(path):\n",
        "    reject = PatternMatchingSkill(responses=['reject'], default_confidence=0.02)  \n",
        "    intent = SimilarityMatchingSkill(data_path=path, x_col_name='question', y_col_name='intent',\n",
        "                                     save_load_path=path[:-4] + '_model', config_type='tfidf_autofaq', train=True)\n",
        "  \n",
        "    return DefaultAgent([intent, reject], skills_selector=HighestConfidenceSelector())\n",
        "\n",
        "class WeatherBot:\n",
        "    def __init__(self, language='ru'):\n",
        "        self.language = language\n",
        "        self.classifier = create_intent_classifier(DATAPATH[language])\n",
        "        self.answers = LOCALIZATION[language]\n",
        "        self.owm = pyowm.OWM(OWM_API_KEY, language=language)\n",
        "        \n",
        "    def __call__(self, question):\n",
        "        intent = self.classifier([question])[0]\n",
        "        if intent == 'reject':\n",
        "            return self.answers['reject']\n",
        "        \n",
        "        forecaster = self.owm.three_hours_forecast(MY_LOCATION)\n",
        "        day = forecaster.when_starts('date') + datetime.timedelta(days=int(intent[5]))\n",
        "        weather = forecaster.get_weather_at(day)\n",
        "\n",
        "        if intent.startswith('temp'):\n",
        "            temperature = weather.get_temperature(unit='celsius')\n",
        "            return self.answers['temp'].format(temperature['temp'], temperature['temp_min'], temperature['temp_max'])\n",
        "        elif intent.startswith('wind'):\n",
        "            return self.answers['wind'].format(weather.get_wind(unit='meters_sec')['speed'])\n",
        "        else:\n",
        "            return self.answers['rain'].format(weather.get_status().lower())\n",
        "        "
      ],
      "execution_count": 0,
      "outputs": []
    },
    {
      "cell_type": "markdown",
      "metadata": {
        "id": "Lp5Pt8Tr8Vhl",
        "colab_type": "text"
      },
      "source": [
        "# Chatting with WeatherBot"
      ]
    },
    {
      "cell_type": "code",
      "metadata": {
        "id": "CDabztFOgjJW",
        "colab_type": "code",
        "colab": {
          "base_uri": "https://localhost:8080/",
          "height": 615
        },
        "outputId": "87b14c6f-73c9-4645-96f0-8c5c786e7775"
      },
      "source": [
        "%%capture\n",
        "bot_ru = WeatherBot('ru')\n",
        "bot_en = WeatherBot('en')"
      ],
      "execution_count": 6,
      "outputs": [
        {
          "output_type": "stream",
          "text": [
            "2019-06-28 05:45:34.524 INFO in 'deeppavlov.core.data.utils'['utils'] at line 63: Downloading from http://files.deeppavlov.ai/vectorizer/tfidf_vectorizer_ruwiki.pkl to /content/qa_dataset_ru_model/vectorizer/tfidf_vectorizer_ruwiki.pkl\n",
            "2019-06-28 05:46:09.718 INFO in 'deeppavlov.core.data.utils'['utils'] at line 63: Downloading from http://files.deeppavlov.ai/faq/school/tfidf_cos_sim_classifier.pkl to /content/qa_dataset_ru_model/faq/tfidf_cos_sim_classifier.pkl\n",
            "2019-06-28 05:46:10.572 INFO in 'deeppavlov.models.sklearn.sklearn_component'['sklearn_component'] at line 202: Loading model sklearn.feature_extraction.text:TfidfVectorizer from /content/qa_dataset_ru_model/vectorizer/tfidf_vectorizer_ruwiki.pkl\n",
            "2019-06-28 05:46:13.77 INFO in 'deeppavlov.models.sklearn.sklearn_component'['sklearn_component'] at line 209: Model sklearn.feature_extraction.textTfidfVectorizer loaded  with parameters\n",
            "2019-06-28 05:46:13.78 WARNING in 'deeppavlov.models.sklearn.sklearn_component'['sklearn_component'] at line 215: Fitting of loaded model can not be continued. Model can be fitted from scratch.If one needs to continue fitting, please, look at `warm_start` parameter\n",
            "2019-06-28 05:46:13.105 INFO in 'deeppavlov.models.sklearn.sklearn_component'['sklearn_component'] at line 108: Fitting model sklearn.feature_extraction.textTfidfVectorizer\n",
            "2019-06-28 05:46:13.116 INFO in 'deeppavlov.models.sklearn.sklearn_component'['sklearn_component'] at line 240: Saving model to /content/qa_dataset_ru_model/vectorizer/tfidf_vectorizer_ruwiki.pkl\n",
            "2019-06-28 05:46:13.154 INFO in 'deeppavlov.models.classifiers.cos_sim_classifier'['cos_sim_classifier'] at line 128: Saving faq_model to /content/qa_dataset_ru_model/faq/tfidf_cos_sim_classifier.pkl\n",
            "2019-06-28 05:46:13.313 INFO in 'deeppavlov.models.sklearn.sklearn_component'['sklearn_component'] at line 202: Loading model sklearn.feature_extraction.text:TfidfVectorizer from /content/qa_dataset_ru_model/vectorizer/tfidf_vectorizer_ruwiki.pkl\n",
            "2019-06-28 05:46:13.318 INFO in 'deeppavlov.models.sklearn.sklearn_component'['sklearn_component'] at line 209: Model sklearn.feature_extraction.textTfidfVectorizer loaded  with parameters\n",
            "2019-06-28 05:46:13.320 WARNING in 'deeppavlov.models.sklearn.sklearn_component'['sklearn_component'] at line 215: Fitting of loaded model can not be continued. Model can be fitted from scratch.If one needs to continue fitting, please, look at `warm_start` parameter\n",
            "2019-06-28 05:46:13.322 INFO in 'deeppavlov.models.classifiers.cos_sim_classifier'['cos_sim_classifier'] at line 133: Loading faq_model from /content/qa_dataset_ru_model/faq/tfidf_cos_sim_classifier.pkl\n",
            "2019-06-28 05:46:13.378 INFO in 'deeppavlov.models.sklearn.sklearn_component'['sklearn_component'] at line 202: Loading model sklearn.feature_extraction.text:TfidfVectorizer from /content/qa_dataset_ru_model/vectorizer/tfidf_vectorizer_ruwiki.pkl\n",
            "2019-06-28 05:46:13.379 INFO in 'deeppavlov.models.sklearn.sklearn_component'['sklearn_component'] at line 209: Model sklearn.feature_extraction.textTfidfVectorizer loaded  with parameters\n",
            "2019-06-28 05:46:13.381 WARNING in 'deeppavlov.models.sklearn.sklearn_component'['sklearn_component'] at line 215: Fitting of loaded model can not be continued. Model can be fitted from scratch.If one needs to continue fitting, please, look at `warm_start` parameter\n",
            "2019-06-28 05:46:13.382 INFO in 'deeppavlov.models.classifiers.cos_sim_classifier'['cos_sim_classifier'] at line 133: Loading faq_model from /content/qa_dataset_ru_model/faq/tfidf_cos_sim_classifier.pkl\n",
            "2019-06-28 05:46:13.384 INFO in 'deeppavlov.contrib.skills.similarity_matching_skill.similarity_matching_skill'['similarity_matching_skill'] at line 69: Your model was saved at: 'qa_dataset_ru_model'\n",
            "2019-06-28 05:46:14.132 INFO in 'deeppavlov.core.data.utils'['utils'] at line 63: Downloading from http://files.deeppavlov.ai/faq/school/tfidf_cos_sim_classifier.pkl to /content/qa_dataset_en_model/faq/tfidf_cos_sim_classifier.pkl\n",
            "2019-06-28 05:46:14.862 INFO in 'deeppavlov.core.data.utils'['utils'] at line 63: Downloading from http://files.deeppavlov.ai/vectorizer/tfidf_vectorizer_ruwiki.pkl to /content/qa_dataset_en_model/vectorizer/tfidf_vectorizer_ruwiki.pkl\n",
            "2019-06-28 05:46:43.569 INFO in 'deeppavlov.models.sklearn.sklearn_component'['sklearn_component'] at line 202: Loading model sklearn.feature_extraction.text:TfidfVectorizer from /content/qa_dataset_en_model/vectorizer/tfidf_vectorizer_ruwiki.pkl\n",
            "2019-06-28 05:46:45.910 INFO in 'deeppavlov.models.sklearn.sklearn_component'['sklearn_component'] at line 209: Model sklearn.feature_extraction.textTfidfVectorizer loaded  with parameters\n",
            "2019-06-28 05:46:45.911 WARNING in 'deeppavlov.models.sklearn.sklearn_component'['sklearn_component'] at line 215: Fitting of loaded model can not be continued. Model can be fitted from scratch.If one needs to continue fitting, please, look at `warm_start` parameter\n",
            "2019-06-28 05:46:45.930 INFO in 'deeppavlov.models.sklearn.sklearn_component'['sklearn_component'] at line 108: Fitting model sklearn.feature_extraction.textTfidfVectorizer\n",
            "2019-06-28 05:46:45.937 INFO in 'deeppavlov.models.sklearn.sklearn_component'['sklearn_component'] at line 240: Saving model to /content/qa_dataset_en_model/vectorizer/tfidf_vectorizer_ruwiki.pkl\n",
            "2019-06-28 05:46:45.971 INFO in 'deeppavlov.models.classifiers.cos_sim_classifier'['cos_sim_classifier'] at line 128: Saving faq_model to /content/qa_dataset_en_model/faq/tfidf_cos_sim_classifier.pkl\n",
            "2019-06-28 05:46:46.127 INFO in 'deeppavlov.models.sklearn.sklearn_component'['sklearn_component'] at line 202: Loading model sklearn.feature_extraction.text:TfidfVectorizer from /content/qa_dataset_en_model/vectorizer/tfidf_vectorizer_ruwiki.pkl\n",
            "2019-06-28 05:46:46.129 INFO in 'deeppavlov.models.sklearn.sklearn_component'['sklearn_component'] at line 209: Model sklearn.feature_extraction.textTfidfVectorizer loaded  with parameters\n",
            "2019-06-28 05:46:46.130 WARNING in 'deeppavlov.models.sklearn.sklearn_component'['sklearn_component'] at line 215: Fitting of loaded model can not be continued. Model can be fitted from scratch.If one needs to continue fitting, please, look at `warm_start` parameter\n",
            "2019-06-28 05:46:46.131 INFO in 'deeppavlov.models.classifiers.cos_sim_classifier'['cos_sim_classifier'] at line 133: Loading faq_model from /content/qa_dataset_en_model/faq/tfidf_cos_sim_classifier.pkl\n",
            "2019-06-28 05:46:46.190 INFO in 'deeppavlov.models.sklearn.sklearn_component'['sklearn_component'] at line 202: Loading model sklearn.feature_extraction.text:TfidfVectorizer from /content/qa_dataset_en_model/vectorizer/tfidf_vectorizer_ruwiki.pkl\n",
            "2019-06-28 05:46:46.191 INFO in 'deeppavlov.models.sklearn.sklearn_component'['sklearn_component'] at line 209: Model sklearn.feature_extraction.textTfidfVectorizer loaded  with parameters\n",
            "2019-06-28 05:46:46.192 WARNING in 'deeppavlov.models.sklearn.sklearn_component'['sklearn_component'] at line 215: Fitting of loaded model can not be continued. Model can be fitted from scratch.If one needs to continue fitting, please, look at `warm_start` parameter\n",
            "2019-06-28 05:46:46.194 INFO in 'deeppavlov.models.classifiers.cos_sim_classifier'['cos_sim_classifier'] at line 133: Loading faq_model from /content/qa_dataset_en_model/faq/tfidf_cos_sim_classifier.pkl\n",
            "2019-06-28 05:46:46.195 INFO in 'deeppavlov.contrib.skills.similarity_matching_skill.similarity_matching_skill'['similarity_matching_skill'] at line 69: Your model was saved at: 'qa_dataset_en_model'\n"
          ],
          "name": "stderr"
        }
      ]
    },
    {
      "cell_type": "code",
      "metadata": {
        "colab_type": "code",
        "outputId": "361ea6cc-ea3d-4ea3-eb58-3e8e9252c87e",
        "id": "0uyFydIE6zRP",
        "colab": {
          "base_uri": "https://localhost:8080/",
          "height": 272
        }
      },
      "source": [
        "questions = [\n",
        "    'Сегодня будет дождь?',\n",
        "    'Какая завтра температура?',\n",
        "    'Послезавтра будет холодно?',\n",
        "    'Будет ли ветрено через три дня?',\n",
        "    'Когда Навальный станет прездиентом?'\n",
        "]\n",
        "\n",
        "for question in questions:\n",
        "    print('В: {}\\nО: {}\\n'.format(question, bot_ru(question)))"
      ],
      "execution_count": 7,
      "outputs": [
        {
          "output_type": "stream",
          "text": [
            "В: Сегодня будет дождь?\n",
            "О: Будет clouds.\n",
            "\n",
            "В: Какая завтра температура?\n",
            "О: Ожидается 18.17°C при колебаниях между 18.17°C и 18.17°C.\n",
            "\n",
            "В: Послезавтра будет холодно?\n",
            "О: Ожидается 19.55°C при колебаниях между 19.55°C и 19.55°C.\n",
            "\n",
            "В: Будет ли ветрено через три дня?\n",
            "О: Ожтдается ветер со скоростью 4.51 м/с.\n",
            "\n",
            "В: Когда Навальный станет прездиентом?\n",
            "О: Извиняюсь, но я не понял ваш вопрос.\n",
            "\n"
          ],
          "name": "stdout"
        }
      ]
    },
    {
      "cell_type": "code",
      "metadata": {
        "id": "qyLeWz6b8hAe",
        "colab_type": "code",
        "outputId": "d3883b15-2d67-4705-c8c1-253ce208a8f9",
        "colab": {
          "base_uri": "https://localhost:8080/",
          "height": 221
        }
      },
      "source": [
        "questions = [\n",
        "    'Will it rain tomorrow?',\n",
        "    'How is the weather like today?',  \n",
        "    'How strong wind will be in three days?', \n",
        "    'Who killed JFK?'\n",
        "]\n",
        "\n",
        "for question in questions:\n",
        "    print('Q: {}\\nA: {}\\n'.format(question, bot_en(question)))"
      ],
      "execution_count": 8,
      "outputs": [
        {
          "output_type": "stream",
          "text": [
            "Q: Will it rain tomorrow?\n",
            "A: It will be rain outside.\n",
            "\n",
            "Q: How is the weather like today?\n",
            "A: The temperature will be 17.51 °C flactuating between 17.05 °C and 17.51 °C.\n",
            "\n",
            "Q: How strong wind will be in three days?\n",
            "A: The wind will be 4.51 m/s.\n",
            "\n",
            "Q: Who killed JFK?\n",
            "A: Sorry, I do not understand your question.\n",
            "\n"
          ],
          "name": "stdout"
        }
      ]
    },
    {
      "cell_type": "code",
      "metadata": {
        "id": "5lwrrUdr_bsv",
        "colab_type": "code",
        "colab": {}
      },
      "source": [
        ""
      ],
      "execution_count": 0,
      "outputs": []
    }
  ]
}