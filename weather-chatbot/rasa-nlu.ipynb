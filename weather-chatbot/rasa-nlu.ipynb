{
  "nbformat": 4,
  "nbformat_minor": 0,
  "metadata": {
    "colab": {
      "name": "RasaNLU Chatbot",
      "version": "0.3.2",
      "provenance": [],
      "collapsed_sections": [],
      "toc_visible": true
    },
    "language_info": {
      "codemirror_mode": {
        "name": "ipython",
        "version": 3
      },
      "file_extension": ".py",
      "mimetype": "text/x-python",
      "name": "python",
      "nbconvert_exporter": "python",
      "pygments_lexer": "ipython3",
      "version": "3.6.8"
    },
    "kernelspec": {
      "name": "python3",
      "display_name": "Python 3"
    }
  },
  "cells": [
    {
      "cell_type": "markdown",
      "metadata": {
        "id": "LyODfqhj-WRa",
        "colab_type": "text"
      },
      "source": [
        "# Dependenies\n",
        "Let's download and import all the needed libraries.\n",
        "- **PyOWM** is needed to retrieve the weather forecast,\n",
        "- **DateTime** is needed to make arithmetics on dates,\n",
        "- **RasaNLU** is choosed as a framework for this task."
      ]
    },
    {
      "cell_type": "code",
      "metadata": {
        "colab_type": "code",
        "id": "MVFI-rhkGMBU",
        "colab": {}
      },
      "source": [
        "%%capture\n",
        "!pip install pyowm\n",
        "!pip install rasa_nlu[tensorflow]"
      ],
      "execution_count": 0,
      "outputs": []
    },
    {
      "cell_type": "code",
      "metadata": {
        "id": "b-Om4BwhtbER",
        "colab_type": "code",
        "colab": {}
      },
      "source": [
        "import pyowm\n",
        "import datetime\n",
        "import rasa_nlu as nlu"
      ],
      "execution_count": 0,
      "outputs": []
    },
    {
      "cell_type": "markdown",
      "metadata": {
        "id": "kei4vVk8uGOT",
        "colab_type": "text"
      },
      "source": [
        "# Creation of intention dataset"
      ]
    },
    {
      "cell_type": "code",
      "metadata": {
        "id": "7u9TPIJXuMTa",
        "colab_type": "code",
        "colab": {}
      },
      "source": [
        "temp_intent_templates = [\n",
        "    'what is the weather like {}',\n",
        "    'what is the temperature {}',\n",
        "    'how may degrees {}',\n",
        "    'is it cold {}',\n",
        "    'is it cold outside {}',\n",
        "    'is it warm {}',\n",
        "    'is it warm outside {}',\n",
        "]\n",
        "\n",
        "wind_intent_templates = [\n",
        "    'how windy {}',\n",
        "    'what is the wind {}',\n",
        "    'will it blow {}',\n",
        "]\n",
        "\n",
        "rain_intent_templates = [\n",
        "    'is it going to rain {}',\n",
        "    'will it rain {}',\n",
        "    'what is the precipitation {}',\n",
        "    'should i expect rain {}'\n",
        "]\n",
        "\n",
        "day_phrases = {\n",
        "    'today': 0,\n",
        "    'now': 0,\n",
        "    'tomorrow': 1,\n",
        "    'in day': 1,\n",
        "    'in one day': 1,\n",
        "    'in two days': 2,\n",
        "    'in three days': 3,\n",
        "    'in 1 day': 1,\n",
        "    'in 2 days': 2,\n",
        "    'in 3 days': 3,\n",
        "}\n",
        "\n",
        "intents = '\\n## intent:temp\\n'\n",
        "for template in temp_intent_templates:\n",
        "    for phrase in day_phrases:\n",
        "        entity = '[' + phrase + '](day:' + str(day_phrases[phrase]) + ')'\n",
        "        intents += '- ' + (template.format(entity) + '\\n')\n",
        "\n",
        "intents += '\\n## intent:wind\\n'\n",
        "for template in wind_intent_templates:\n",
        "    for phrase in day_phrases:\n",
        "        entity = '[' + phrase + '](day:' + str(day_phrases[phrase]) + ')'\n",
        "        intents += '- ' + (template.format(entity) + '\\n')\n",
        "\n",
        "intents += '\\n## intent:rain\\n'\n",
        "for template in rain_intent_templates:\n",
        "    for phrase in day_phrases:\n",
        "        entity = '[' + phrase + '](day:' + str(day_phrases[phrase]) + ')'\n",
        "        intents += '- ' + (template.format(entity) + '\\n')\n",
        "\n",
        "with open('intents.md', 'w') as file: file.write(intents)\n",
        "with open('config.yml', 'w') as file: file.write('language: \"en\"\\npipeline: \"supervised_embeddings\"')"
      ],
      "execution_count": 0,
      "outputs": []
    },
    {
      "cell_type": "markdown",
      "metadata": {
        "id": "oa-xnn-TzpPQ",
        "colab_type": "text"
      },
      "source": [
        "# Building chatbot"
      ]
    },
    {
      "cell_type": "code",
      "metadata": {
        "id": "MIz3Ld0dzm03",
        "colab_type": "code",
        "colab": {}
      },
      "source": [
        "MY_LOCATION = 'Novosibirsk, RU'\n",
        "OWM_API_KEY = 'b2a209b25b7a0486ee4c845b7e20d397'\n",
        "NLU_ANSWERS = {\n",
        "    'temp': 'The temperature will be {0} °C flactuating between {1} °C and {2} °C.',\n",
        "    'wind': 'The wind will be {} m/s.',\n",
        "    'rain': 'It will be {} outside.',\n",
        "    'reject': 'Sorry, I do not understand your question.'\n",
        "}\n",
        "\n",
        "def create_intent_classifier(data_path, config_path, model_path):\n",
        "    intents = nlu.training_data.load_data(data_path)\n",
        "    trainer = nlu.model.Trainer(nlu.config.load(config_path))\n",
        "    trainer.train(intents)\n",
        "    model_dir = trainer.persist(model_path, project_name='current', fixed_model_name='nlu') \n",
        "    return nlu.model.Interpreter.load(model_dir)\n",
        "\n",
        "class WeatherBot:\n",
        "    def __init__(self):\n",
        "        self.classifier = create_intent_classifier('intents.md', 'config.yml', 'model')\n",
        "        self.answers = NLU_ANSWERS\n",
        "        self.owm = pyowm.OWM(OWM_API_KEY)\n",
        "        \n",
        "    def __call__(self, question):\n",
        "        markup = self.classifier.parse(question)\n",
        "        if markup['intent']['confidence'] < 0.8:\n",
        "            return self.answers['reject']\n",
        "          \n",
        "        if len(markup['entities']) != 0:\n",
        "            days = int(markup['entities'][0]['value'])\n",
        "        else:\n",
        "            days = 0\n",
        "            \n",
        "        forecaster = self.owm.three_hours_forecast(MY_LOCATION)\n",
        "        day = forecaster.when_starts('date') + datetime.timedelta(days=days)\n",
        "        weather = forecaster.get_weather_at(day)\n",
        "\n",
        "        intent = markup['intent']['name']\n",
        "        if intent.startswith('temp'):\n",
        "            temperature = weather.get_temperature(unit='celsius')\n",
        "            return self.answers['temp'].format(temperature['temp'], temperature['temp_min'], temperature['temp_max'])\n",
        "        elif intent.startswith('wind'):\n",
        "            return self.answers['wind'].format(weather.get_wind(unit='meters_sec')['speed'])\n",
        "        else:\n",
        "            return self.answers['rain'].format(weather.get_status().lower())"
      ],
      "execution_count": 0,
      "outputs": []
    },
    {
      "cell_type": "markdown",
      "metadata": {
        "id": "s-WOYewczc09",
        "colab_type": "text"
      },
      "source": [
        "# Chatting with WeatherBot"
      ]
    },
    {
      "cell_type": "code",
      "metadata": {
        "id": "Bz36XT4Wzc_c",
        "colab_type": "code",
        "colab": {}
      },
      "source": [
        "%%capture\n",
        "bot = WeatherBot()"
      ],
      "execution_count": 0,
      "outputs": []
    },
    {
      "cell_type": "code",
      "metadata": {
        "id": "FlukdGrGzjy4",
        "colab_type": "code",
        "colab": {
          "base_uri": "https://localhost:8080/",
          "height": 221
        },
        "outputId": "e59dda28-ae1e-4e83-cd25-021188beffbb"
      },
      "source": [
        "questions = [\n",
        "    'Will it rain tomorrow?',\n",
        "    'How is the weather like today?',  \n",
        "    'How strong wind will be in three days?', \n",
        "    'Who killed JFK?'\n",
        "]\n",
        "\n",
        "for question in questions:\n",
        "    print('Q: {}\\nA: {}\\n'.format(question, bot(question)))"
      ],
      "execution_count": 7,
      "outputs": [
        {
          "output_type": "stream",
          "text": [
            "Q: Will it rain tomorrow?\n",
            "A: It will be clouds outside.\n",
            "\n",
            "Q: How is the weather like today?\n",
            "A: The temperature will be 20.65 °C flactuating between 19.63 °C and 20.65 °C.\n",
            "\n",
            "Q: How strong wind will be in three days?\n",
            "A: The wind will be 3.43 m/s.\n",
            "\n",
            "Q: Who killed JFK?\n",
            "A: Sorry, I do not understand your question.\n",
            "\n"
          ],
          "name": "stdout"
        }
      ]
    },
    {
      "cell_type": "code",
      "metadata": {
        "id": "Kb0-cUboFLCm",
        "colab_type": "code",
        "colab": {}
      },
      "source": [
        ""
      ],
      "execution_count": 0,
      "outputs": []
    }
  ]
}